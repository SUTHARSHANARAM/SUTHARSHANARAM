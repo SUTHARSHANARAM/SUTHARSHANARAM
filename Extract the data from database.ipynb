{
  "nbformat": 4,
  "nbformat_minor": 0,
  "metadata": {
    "colab": {
      "provenance": [],
      "authorship_tag": "ABX9TyOuiBS9AWKOoIvGAtcycKgU",
      "include_colab_link": true
    },
    "kernelspec": {
      "name": "python3",
      "display_name": "Python 3"
    },
    "language_info": {
      "name": "python"
    }
  },
  "cells": [
    {
      "cell_type": "markdown",
      "metadata": {
        "id": "view-in-github",
        "colab_type": "text"
      },
      "source": [
        "<a href=\"https://colab.research.google.com/github/SUTHARSHANARAM/SUTHARSHANARAM/blob/main/Extract%20the%20data%20from%20database.ipynb\" target=\"_parent\"><img src=\"https://colab.research.google.com/assets/colab-badge.svg\" alt=\"Open In Colab\"/></a>"
      ]
    },
    {
      "cell_type": "code",
      "source": [
        "import pymysql\n",
        "\n",
        "def mysqlconnect():\n",
        "    # To connect MySQL database\n",
        "    conn = pymysql.connect(\n",
        "        host='localhost',\n",
        "        user='root',\n",
        "        password=\"pass\",\n",
        "        db='College'\n",
        "    )\n",
        "    cur = conn.cursor()\n",
        "    cur.execute(\"SELECT @@version\")\n",
        "    output = cur.fetchall()\n",
        "    print(output)\n",
        "\n",
        "    # To close the connection\n",
        "    conn.close()"
      ],
      "metadata": {
        "id": "EJpk5OKGgSZj"
      },
      "execution_count": null,
      "outputs": []
    }
  ]
}